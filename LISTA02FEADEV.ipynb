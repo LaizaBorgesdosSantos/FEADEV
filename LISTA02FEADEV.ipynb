{
 "cells": [
  {
   "cell_type": "code",
   "execution_count": null,
   "id": "61245bf0-d364-44fd-b790-4226a5a2d0e4",
   "metadata": {},
   "outputs": [],
   "source": [
    "#QUESTAO0\n",
    "endereço = int(input(\"Digite seu número do seu endereço: \"))\n",
    "resto = (endereço % 2)\n",
    "\n",
    "#casas do lado direito é par\n",
    "#casas do lado esquerdo é impar\n",
    "\n",
    "if resto == 0:\n",
    "  print(\"Sua casa fica do lado direito!\")\n",
    "if resto != 0:\n",
    "    print(\"Sua casa fica do lado esquerdo!\")"
   ]
  },
  {
   "cell_type": "code",
   "execution_count": null,
   "id": "642d3801-fc8c-45dc-a9fd-f7e1b5c90d4e",
   "metadata": {},
   "outputs": [],
   "source": [
    "#QUESTAO01\n",
    "#fervorosos: + 2 livros por mes\n",
    "#novatos: 2 ou menos por mes\n",
    "\n",
    "QuantidadeLivros = int(input(\"Digite a quantidade de livros que você costuma ler por mês \"))\n",
    "\n",
    "if QuantidadeLivros > 2:\n",
    "  print(\"Leitor fervoroso\")\n",
    "if QuantidadeLivros <= 2:\n",
    "  print(\"Leitor novato\")"
   ]
  },
  {
   "cell_type": "code",
   "execution_count": null,
   "id": "6cabced5-cecc-46c2-859c-3a6a4461c539",
   "metadata": {},
   "outputs": [],
   "source": [
    "#QUESTAO02\n",
    "#Até 180 dias de investimento, 22,5%\n",
    "#De 181 a 360 dias de investimento, 20%\n",
    "#De 361 a 720 dias de investimento, 17,5\n",
    "#Acima de 720 dias, 15%.\n",
    "\n",
    "Qtd_Dias_Investimento = int(input(\"Qual a quantidade de dias do seu investimento? \"))\n",
    "\n",
    "if Qtd_Dias_Investimento <= 180:\n",
    "  print(\"A alíquota de imposto que você pagará será 22,5%\")\n",
    "if 181 <= Qtd_Dias_Investimento <= 360:\n",
    "  print(\"A alíquota de imposto que você pagará será 20%\")\n",
    "if 361 <= Qtd_Dias_Investimento <= 720:\n",
    "  print(\"A alíquota de imposto que você pagará será 17,5%\")\n",
    "if Qtd_Dias_Investimento > 720:\n",
    "    print(\"A alíquota de imposto que você pagará será 15%\")"
   ]
  },
  {
   "cell_type": "code",
   "execution_count": null,
   "id": "7ad455b8-7de4-47fa-ad4b-94c4c659118c",
   "metadata": {},
   "outputs": [],
   "source": [
    "#QUESTAO03\n",
    "lista = ['berinjela', 'cerveja', 'miojo', 'grão de bico', 'energético', 'repolho em conserva', 'repolho']\n",
    "\n",
    "precos_novo_mercado = {'berinjela':5, 'cerveja':3, 'miojo': 20, 'grão de bico':15, 'energético':18, 'repolho':30}\n",
    "precos_velho_mercado = {'berinjela':3, 'cerveja':2, 'miojo': 10, 'grão de bico':22, 'energético':19, 'repolho':40}\n",
    "\n",
    "#####SEU CODIGO COMECA AQUI#####\n",
    "\n",
    "Decisão = input(\"Digite o produto entre berinjela, grão de bico e repolho em conserva e descubra se vale a pena comprar: \")\n",
    "\n",
    "if Decisão == \"berinjela\":\n",
    "  print(\"Não! Está mais caro no mercado novo.\")\n",
    "\n",
    "if Decisão == \"grão de bico\":\n",
    "  print(\"Sim! Está mais barato no mercado novo.\")\n",
    "\n",
    "if Decisão == \"repolho em conserva\":\n",
    "  print(\"Sim! Está mais barato no mercado novo.\")"
   ]
  },
  {
   "cell_type": "code",
   "execution_count": null,
   "id": "49c5200e-1c74-4100-8e1e-c29befdb004e",
   "metadata": {},
   "outputs": [],
   "source": [
    "#QUESTAO04\n",
    "import random\n",
    "random.randint(1,10)\n",
    "\n",
    "adivinhe = int(input(\"Tente adivinhar o número que será gerado de 1 a 10. \"))\n",
    "c = print(random.randint(1,10))\n",
    "\n",
    "if adivinhe == c:\n",
    "  print(\"Parabéns, você acertou!\")\n",
    "else:\n",
    "  print(\"Errou! O número correto era \" , c)"
   ]
  },
  {
   "cell_type": "code",
   "execution_count": null,
   "id": "cdc528b3-616a-4598-93e3-2eafef9b3d58",
   "metadata": {},
   "outputs": [],
   "source": [
    "#QUESTAO05\n",
    "lista = ['E','u','_','a','m','o','_','p','r','o','g','r','a','m','a','r']\n",
    "\n",
    "print(len(lista), \"letras\")\n",
    "print(lista)"
   ]
  },
  {
   "cell_type": "code",
   "execution_count": null,
   "id": "dca9e4c8-3f48-456c-a639-7391d3064297",
   "metadata": {},
   "outputs": [],
   "source": [
    "#QUESTAO06\n",
    "pi = '3.141592653589793238462643383279502884197169'"
   ]
  }
 ],
 "metadata": {
  "kernelspec": {
   "display_name": "Python 3 (ipykernel)",
   "language": "python",
   "name": "python3"
  },
  "language_info": {
   "codemirror_mode": {
    "name": "ipython",
    "version": 3
   },
   "file_extension": ".py",
   "mimetype": "text/x-python",
   "name": "python",
   "nbconvert_exporter": "python",
   "pygments_lexer": "ipython3",
   "version": "3.11.7"
  }
 },
 "nbformat": 4,
 "nbformat_minor": 5
}
