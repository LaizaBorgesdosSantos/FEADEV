{
 "cells": [
  {
   "cell_type": "code",
   "execution_count": null,
   "id": "31bae10a-8120-4cb3-bc36-615251297230",
   "metadata": {},
   "outputs": [],
   "source": [
    "### Importando as bibliotecas\n",
    "# Caso precise instalar alguma biblioteca use: %pip install nome_da_biblioteca\n",
    "import numpy as np\n",
    "import pandas as pd\n",
    "import matplotlib.pyplot as plt\n",
    "import seaborn as sns\n",
    "import plotly.express as px"
   ]
  },
  {
   "cell_type": "code",
   "execution_count": null,
   "id": "7f7a8966-fe2e-4ae5-a260-346e993ee8b6",
   "metadata": {},
   "outputs": [],
   "source": [
    "### Carregando o dataset\n",
    "data = pd.read_csv(\"dataset_dev.csv\")"
   ]
  },
  {
   "cell_type": "code",
   "execution_count": null,
   "id": "3abb85e0-8954-4670-9ddc-60bc2dbdf183",
   "metadata": {},
   "outputs": [],
   "source": [
    "data.head()"
   ]
  },
  {
   "cell_type": "code",
   "execution_count": null,
   "id": "b2c01a57-a514-4da9-ab08-5f0fcaf5b59b",
   "metadata": {},
   "outputs": [],
   "source": [
    "data.info()"
   ]
  },
  {
   "cell_type": "code",
   "execution_count": null,
   "id": "8801d263-2dab-4846-91a4-9170bfa27377",
   "metadata": {},
   "outputs": [],
   "source": [
    "data.shape"
   ]
  },
  {
   "cell_type": "code",
   "execution_count": null,
   "id": "12cd38a7-36fa-49e9-a95e-86229fc0e7e0",
   "metadata": {},
   "outputs": [],
   "source": [
    "### REMOÇÃO DOS OUTLIERS ###\n",
    "from scipy import stats\n",
    "z_scores = stats.zscore(data['adr'])\n",
    "threshold = 3\n",
    "data = data[(z_scores < threshold)]\n",
    "\n",
    "###QUESTAO 01\n",
    "### SEU CÓDIGO COMEÇA AQUI ###\n",
    "plt.scatter(data['lead_time'], data['adr'], c=data['adr'], cmap='viridis')\n",
    "plt.xlabel('Dias de Antecedência da Reserva')\n",
    "plt.ylabel('Tarifa Média Diária')\n",
    "plt.title('Relação entre Lead Time e ADR')\n",
    "plt.show()"
   ]
  },
  {
   "cell_type": "code",
   "execution_count": null,
   "id": "c870a609-ac57-4b3b-9bc5-420fe67b4812",
   "metadata": {},
   "outputs": [],
   "source": [
    "#QUESTAO 02 \n",
    "### SEU CÓDIGO COMEÇA AQUI ###\n",
    "plt.hist(data['hotel'], bins = 3, edgecolor = 'pink')\n",
    "plt.xlabel('Tipo de Hotel')\n",
    "plt.ylabel('Quantidade')\n",
    "plt.show()"
   ]
  },
  {
   "cell_type": "code",
   "execution_count": null,
   "id": "aed29dd3-b62d-4c2d-a9af-d555ced72ad2",
   "metadata": {},
   "outputs": [],
   "source": [
    "sns.countplot(x='hotel', hue='is_canceled', data=data, palette='Set2', edgecolor='black')\n",
    "plt.xlabel('Tipo de Hotel')\n",
    "plt.ylabel('Contagem de Reservas')\n",
    "plt.title('Distribuição de Reservas Canceladas por Tipo de Hotel')\n",
    "plt.show()"
   ]
  },
  {
   "cell_type": "code",
   "execution_count": null,
   "id": "e7e520b5-8239-48c5-a214-e680590a5c68",
   "metadata": {},
   "outputs": [],
   "source": [
    "### QUESTAO 03\n",
    "### SEU CÓDIGO COMEÇA AQUI ###\n",
    "plt.hist(data['stays_in_weekend_nights'], bins=20, color='orange', edgecolor=\"blue')\n",
    "plt.xlabel('Número de Noites de Fim de Semana')\n",
    "plt.ylabel('Frequência')\n",
    "plt.title('Distribuição do IMC')\n",
    "plt.show()"
   ]
  },
  {
   "cell_type": "code",
   "execution_count": null,
   "id": "e627c134-9d39-4358-9fb9-bbce86a7bbed",
   "metadata": {},
   "outputs": [],
   "source": [
    "### SEU CÓDIGO COMEÇA AQUI ###\n",
    "plt.hist(data['stays_in_week_nights'], bins=20, color='orange' , edgecolor='blue')\n",
    "plt.xlabel('Número de Noites de Fim de Semana')\n",
    "plt.ylabel('Frequência')\n",
    "plt.title('Distribuição do IMC')\n",
    "plt.show()"
   ]
  },
  {
   "cell_type": "code",
   "execution_count": null,
   "id": "f2d39146-6ee7-4362-80c9-93866e8fdd6e",
   "metadata": {},
   "outputs": [],
   "source": [
    "### SEU CÓDIGO COMEÇA AQUI ###\n",
    "plt.figure(figsize=(8, 6))\n",
    "sns.scatterplot(x='stays_in_weekend_nights', y='stays_in_week_nights', data=data, hue='hotel')\n",
    "plt.xlabel('Dias de Estadia durante os Fins de Semana')\n",
    "plt.ylabel('Dias de Estadia durante os Dias de Semana')\n",
    "plt.title('Relação entre Dias de Estadia nos Fins de Semana e Dias de Semana por Tipo de Hotel')\n",
    "plt.legend(title='Tipo de Hotel')\n",
    "plt.show()"
   ]
  },
  {
   "cell_type": "code",
   "execution_count": null,
   "id": "62525183-4ae4-4563-824b-3bde75489faa",
   "metadata": {},
   "outputs": [],
   "source": [
    "##QUESTAO 04\n",
    "### SEU CÓDIGO COMEÇA AQUI ###\n",
    "plt.figure(figsize=(12, 6))\n",
    "sns.lineplot(x='arrival_date_month', y='adr', data=data, errorbar=None)\n",
    "plt.xlabel('Data de Atualização do Status da Reserva')\n",
    "plt.ylabel('Tarifa Média Diária (ADR)')\n",
    "plt.title('Evolução Temporal das Taxas Médias Diárias')\n",
    "plt.show()"
   ]
  },
  {
   "cell_type": "code",
   "execution_count": null,
   "id": "dac340ef-9442-4806-96e0-80af9b24ea8e",
   "metadata": {},
   "outputs": [],
   "source": [
    "### SEU CÓDIGO COMEÇA AQUI ###\n",
    "plt.figure(figsize=(8, 6))\n",
    "sns.lineplot(x='arrival_date_year', y='adr', data=data, errorbar=None, color=\"pink\")\n",
    "plt.xlabel('Data de Atualização do Status da Reserva')\n",
    "plt.ylabel('Tarifa Média Diária (ADR)')\n",
    "plt.title('Evolução Temporal das Taxas Médias Diárias')\n",
    "plt.show()"
   ]
  },
  {
   "cell_type": "code",
   "execution_count": null,
   "id": "10b2f0c0-1def-4f4f-84aa-f85db51dbf02",
   "metadata": {},
   "outputs": [],
   "source": []
  }
 ],
 "metadata": {
  "kernelspec": {
   "display_name": "Python 3 (ipykernel)",
   "language": "python",
   "name": "python3"
  },
  "language_info": {
   "codemirror_mode": {
    "name": "ipython",
    "version": 3
   },
   "file_extension": ".py",
   "mimetype": "text/x-python",
   "name": "python",
   "nbconvert_exporter": "python",
   "pygments_lexer": "ipython3",
   "version": "3.11.7"
  }
 },
 "nbformat": 4,
 "nbformat_minor": 5
}
