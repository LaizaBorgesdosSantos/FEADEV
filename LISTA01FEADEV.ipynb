{
 "cells": [
  {
   "cell_type": "code",
   "execution_count": null,
   "id": "8421cb0b-dd66-4190-8076-921b7b15f044",
   "metadata": {},
   "outputs": [],
   "source": [
    "#LISTA 01 FEA.dev\n"
   ]
  },
  {
   "cell_type": "code",
   "execution_count": null,
   "id": "7a63fd65-33f1-4dcf-bb77-d51761aa783d",
   "metadata": {},
   "outputs": [],
   "source": [
    "#QUESTÃO 0"
   ]
  },
  {
   "cell_type": "code",
   "execution_count": 2,
   "id": "8853b6fb-4876-4c9c-8ffa-1f5231a4641b",
   "metadata": {},
   "outputs": [
    {
     "name": "stdout",
     "output_type": "stream",
     "text": [
      "meu número preferido é: 19\n"
     ]
    }
   ],
   "source": [
    "#seu código começa aqui\n",
    "\n",
    "print('meu número preferido é: 19')"
   ]
  },
  {
   "cell_type": "code",
   "execution_count": null,
   "id": "3357cfcd-edc7-419a-a555-8c57cfc4bb06",
   "metadata": {},
   "outputs": [],
   "source": [
    "#QUESTAO 1"
   ]
  },
  {
   "cell_type": "code",
   "execution_count": 8,
   "id": "556f5a7b-47b5-4b34-a4c8-42fb3a58308a",
   "metadata": {},
   "outputs": [
    {
     "name": "stdin",
     "output_type": "stream",
     "text": [
      "Escreva o primeiro nome do cliente:  Laiza\n",
      "Escreva o sobrenome do cliente:  Borges\n"
     ]
    },
    {
     "name": "stdout",
     "output_type": "stream",
     "text": [
      "Laiza Borges\n"
     ]
    }
   ],
   "source": [
    "primeiro_nome = input(\"Escreva o primeiro nome do cliente: \")\n",
    "sobrenome = input(\"Escreva o sobrenome do cliente: \")\n",
    "\n",
    "print(primeiro_nome , sobrenome)"
   ]
  },
  {
   "cell_type": "code",
   "execution_count": null,
   "id": "02f5e319-7a5f-42d7-8399-c6a48f150a90",
   "metadata": {},
   "outputs": [],
   "source": [
    "#Questão 2"
   ]
  },
  {
   "cell_type": "code",
   "execution_count": 10,
   "id": "75968d84-e472-4b40-8b7f-53b149a0471a",
   "metadata": {},
   "outputs": [
    {
     "name": "stdout",
     "output_type": "stream",
     "text": [
      "O resultado é 20\n"
     ]
    }
   ],
   "source": [
    "Equação = 10 + (5*2)\n",
    "\n",
    "print(\"O resultado correto é\" , Equação)"
   ]
  },
  {
   "cell_type": "code",
   "execution_count": null,
   "id": "bc00f98f-5393-45f9-af95-e7662bc66f0a",
   "metadata": {},
   "outputs": [],
   "source": [
    "#Questão 3"
   ]
  },
  {
   "cell_type": "code",
   "execution_count": 22,
   "id": "b9191aae-0aca-45fa-9459-43a5d318155e",
   "metadata": {},
   "outputs": [
    {
     "name": "stdout",
     "output_type": "stream",
     "text": [
      "algo esconde esta mensagem. Poderias decifra-la??\n"
     ]
    }
   ],
   "source": [
    "#Mistério: @lg0 3$c0nd3 3$t@ m3n$@g3m. P0d3r1@$ d3c1fr@-l@??\n",
    "\n",
    "Mensagem = \"@lg0 3$c0nd3 3$t@ m3n$@g3m. P0d3r1@$ d3c1fr@-l@??\"\n",
    "\n",
    "\n",
    "ZERO = Mensagem.replace(\"@\",\"a\")\n",
    "UM = ZERO.replace(\"0\",\"o\")\n",
    "DOIS = UM.replace(\"3\",\"e\")\n",
    "TRES = DOIS.replace(\"$\",\"s\")\n",
    "QUATRO = TRES.replace(\"1\",\"i\")\n",
    "\n",
    "print(QUATRO)"
   ]
  },
  {
   "cell_type": "code",
   "execution_count": 35,
   "id": "90116cfa-6619-4c0b-8d80-63f3e5b76ad5",
   "metadata": {},
   "outputs": [
    {
     "name": "stdout",
     "output_type": "stream",
     "text": [
      "['Farinha de Trigo', 'Ovos', 'Fermento Biológico', 'Leite', 'Champignon', 'Molho de Tomate', 'Frango', 'Requeijão', 'Açúcar', 'Fermento Levain']\n"
     ]
    }
   ],
   "source": [
    "# Questão 4\n",
    "#A)\n",
    "\n",
    "compras = ['Farinha de Trigo', 'Ovos', 'Fermento Biológico', 'Leite', 'Calabresa', 'Milho',\n",
    "           'Champignon', 'Molho de Tomate', 'Frango', 'Requeijão', 'Lombo']\n",
    "\n",
    "UM = compras.remove('Milho')\n",
    "DOIS = compras.remove('Calabresa')\n",
    "TRES = compras.remove(\"Lombo\")\n",
    "\n",
    "QUATRO = compras.append(\"Açúcar\")\n",
    "CINCO = compras.append(\"Fermento Levain\")\n",
    "\n",
    "print(compras)"
   ]
  },
  {
   "cell_type": "code",
   "execution_count": null,
   "id": "7a9569b2-cd4d-48f6-a69f-2abe1f2c9631",
   "metadata": {},
   "outputs": [],
   "source": []
  }
 ],
 "metadata": {
  "kernelspec": {
   "display_name": "Python 3 (ipykernel)",
   "language": "python",
   "name": "python3"
  },
  "language_info": {
   "codemirror_mode": {
    "name": "ipython",
    "version": 3
   },
   "file_extension": ".py",
   "mimetype": "text/x-python",
   "name": "python",
   "nbconvert_exporter": "python",
   "pygments_lexer": "ipython3",
   "version": "3.11.7"
  }
 },
 "nbformat": 4,
 "nbformat_minor": 5
}
