{
 "cells": [
  {
   "cell_type": "code",
   "execution_count": null,
   "id": "2b4727e2-8ad0-46f9-83cd-70c16c940012",
   "metadata": {},
   "outputs": [],
   "source": [
    "#Questão 0\n",
    "\n",
    "def conv_euro_real(valor_euro):\n",
    "  valor_real = (valor_euro) * (5.34)\n",
    "  print(\"O valor, em real, é \", valor_real)"
   ]
  },
  {
   "cell_type": "code",
   "execution_count": null,
   "id": "5144fef5-f1ef-4fe3-8ce1-edd9a40a7fef",
   "metadata": {},
   "outputs": [],
   "source": [
    "#Questão01- a)\n",
    "def mult(a=1,b=1,c=1,d=1):\n",
    "  a == float(a), b == float(b), c == float(c) , d == float(d)\n",
    "  multiplicação = a * b * c * d\n",
    "  print(\"O resultado é: \", multiplicação)"
   ]
  },
  {
   "cell_type": "code",
   "execution_count": null,
   "id": "940e41fa-4c75-42d1-9600-a5f1101ab994",
   "metadata": {},
   "outputs": [],
   "source": [
    "#QUESTÃO 1 B\n",
    "def soma(a,b):\n",
    "  soma = a + b\n",
    "  return soma\n"
   ]
  },
  {
   "cell_type": "code",
   "execution_count": null,
   "id": "c6095a02-1993-4495-a2cc-72463c689d67",
   "metadata": {},
   "outputs": [],
   "source": [
    "#QUESTÃO02\n",
    "  import random\n",
    "\n",
    "def posiçãotesouro():\n",
    "    return random.randint(1, 100)\n",
    "\n",
    "def verificar_palpite(coordenadas_palpite, posição):\n",
    "    if coordenadas_palpite == posição:\n",
    "        return \"Parabéns, você acertou!\"\n",
    "    elif coordenadas_palpite > posição:\n",
    "        return \"Está longe, tente um pouco menos\"\n",
    "    else:\n",
    "        return \"Está longe, tente um pouco mais\"\n",
    "\n",
    "def mensagem():\n",
    "    return \"O tesouro está escondido em algum lugar do mapa\"\n",
    "\n",
    "def mapa():\n",
    "    return \"1, 2, 3, ... , 98, 99, 100\"\n",
    "\n",
    "def numero_tentativas(tentativas):\n",
    "    return len(tentativas)\n",
    "\n",
    "# Inicializa o jogo\n",
    "print(\"Bem-vindo à Caça ao Tesouro! Tente adivinhar a posição do tesouro entre 1 e 100.\")\n",
    "posição = posiçãotesouro()\n",
    "tentativas = []\n",
    "\n",
    "while True:\n",
    "    try:\n",
    "        coordenadas_palpite = int(input(\"Digite seu palpite para o local do tesouro: \"))\n",
    "        tentativas.append(coordenadas_palpite)\n",
    "        resultado = verificar_palpite(coordenadas_palpite, posição)\n",
    "        print(resultado)\n",
    "        if resultado == \"Parabéns, você acertou!\":\n",
    "            print(f\"Você encontrou o tesouro em {numero_tentativas(tentativas)} tentativas.\")\n",
    "            break\n",
    "    except ValueError:\n",
    "        print(\"Por favor, insira um número válido.\")"
   ]
  },
  {
   "cell_type": "code",
   "execution_count": null,
   "id": "ddda8e85-4754-433c-93c5-f9d99458c8e4",
   "metadata": {},
   "outputs": [],
   "source": [
    "#QUESTAO3\n",
    "print(\"Bem vindo(a) ao jogo de Descobrir a Palavra Secreta!\")\n",
    "\n",
    "def verificar_letra(palavra_secreta, letra):\n",
    "  if letra in palavra_secreta:\n",
    "    return True\n",
    "  else:\n",
    "    return False"
   ]
  },
  {
   "cell_type": "code",
   "execution_count": null,
   "id": "dd2592db-978e-41a0-b3ae-020bacdc5abf",
   "metadata": {},
   "outputs": [],
   "source": [
    "#QUESTAO4\n",
    "import random\n",
    "def embaralhar_palavra(palavra):\n",
    "  lista = list(palavra)\n",
    "  random.shuffle(lista)\n",
    "  palavra_embaralhada = ''.join(lista)\n",
    "  return palavra_embaralhada"
   ]
  },
  {
   "cell_type": "code",
   "execution_count": null,
   "id": "de4f628e-5d23-42f9-966c-2088cbe18ac8",
   "metadata": {},
   "outputs": [],
   "source": [
    "#QUESTAO5\n",
    "\n",
    "def eh_numero_impar(numero):\n",
    "  if numero % 2 == 0:\n",
    "    return False\n",
    "  else:\n",
    "    return True"
   ]
  },
  {
   "cell_type": "code",
   "execution_count": null,
   "id": "5fc66074-1357-4ca9-8066-e0629f4d988c",
   "metadata": {},
   "outputs": [],
   "source": [
    "#QUESTAO06\n",
    "import random\n",
    "\n",
    "def escolher_sabores(lista_de_sabores):\n",
    "    return random.choice(lista_de_sabores)\n",
    "\n",
    "coberturas_disponiveis = [\"Baunilha\", \"Chocolate\", \"Morango\", \"Creme\", \"Café\", \"Chocolate com menta\"]\n",
    "sabor_escolhido = escolher_sabores(coberturas_disponiveis)\n",
    "print(\"Sabor de cobertura escolhido: \", sabor_escolhido)\n"
   ]
  },
  {
   "cell_type": "code",
   "execution_count": null,
   "id": "e1c09ae8-713a-482e-8056-5defc65e3618",
   "metadata": {},
   "outputs": [],
   "source": [
    "#QUESTÃO07\n",
    "\n",
    "import calendar #lembre-se da lista passada\n",
    "\n",
    "def exibir_calendario_meteorologico(ano,mes):\n",
    " c= calendar.month(ano,mes)\n",
    " print(c)"
   ]
  },
  {
   "cell_type": "code",
   "execution_count": null,
   "id": "18d38cc7-5afe-4374-a7f1-b9cf88b47a96",
   "metadata": {},
   "outputs": [],
   "source": [
    "#QUESTÃO08\n",
    "guloseimas = [\"chocolate\", \"chocolate\", \"pirulito\", \"caramelo\", \"pirulito\", \"pirulito\"]\n",
    "\n",
    "def contar_guloseimas(doces):\n",
    "  quantidade_chocolate = guloseimas.count('chocolate')\n",
    "  print('A quantidade de chocolates para a festa \"Guloseimas Festivas\" é de: ',quantidade_chocolate)\n",
    "  quantidade_pirulito = guloseimas.count('pirulito')\n",
    "  print('A quantidade de pirulitos para a festa \"Guloseimas Festivas\" é de: ',quantidade_pirulito)\n",
    "  quantidade_caramelo = guloseimas.count('caramelo')\n",
    "  print('A quantidade de caramelo para a festa \"Guloseimas Festivas\" é de: ',quantidade_caramelo)\n",
    "\n",
    "guloseimas = [\"chocolate\", \"chocolate\", \"pirulito\", \"caramelo\", \"pirulito\", \"pirulito\"]\n",
    "quantidade_doces = contar_guloseimas(guloseimas)\n"
   ]
  }
 ],
 "metadata": {
  "kernelspec": {
   "display_name": "Python 3 (ipykernel)",
   "language": "python",
   "name": "python3"
  },
  "language_info": {
   "codemirror_mode": {
    "name": "ipython",
    "version": 3
   },
   "file_extension": ".py",
   "mimetype": "text/x-python",
   "name": "python",
   "nbconvert_exporter": "python",
   "pygments_lexer": "ipython3",
   "version": "3.11.7"
  }
 },
 "nbformat": 4,
 "nbformat_minor": 5
}
