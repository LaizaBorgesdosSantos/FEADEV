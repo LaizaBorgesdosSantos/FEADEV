{
 "cells": [
  {
   "cell_type": "code",
   "execution_count": null,
   "id": "c61fb420-aa80-4b72-8125-8944534e0d2f",
   "metadata": {},
   "outputs": [],
   "source": [
    "import pandas as pd"
   ]
  },
  {
   "cell_type": "code",
   "execution_count": null,
   "id": "0f01fcf7-ea7e-42e0-84a5-eed3562728b2",
   "metadata": {},
   "outputs": [],
   "source": [
    "#Exercício 1:"
   ]
  },
  {
   "cell_type": "code",
   "execution_count": null,
   "id": "ed075c31-5782-4325-8926-4f835346a95b",
   "metadata": {},
   "outputs": [],
   "source": [
    "import pandas as pd\n",
    "data = {'Nome': ['Arthur', 'Bruna', 'Cinthya', 'Penini', 'Guilherme', 'Pedro', 'Maria', 'Ana', 'Raquel'],\n",
    "        'Idade': [25, 30, 22, 35, 28, 19, 27, 39, 29],\n",
    "        'Salário': [4000, 4500, 3500, 5500, 4800, 3000, 6000, 5000, 4500]}\n",
    "\n",
    "df = pd.DataFrame(data)\n",
    "\n",
    "#a) Use a função loc para selecionar as linhas correspondentes aos indivíduos com idades entre 25 e 30 anos.\n",
    "df.loc[(df['Idade'] >= 25) & (df['Idade'] <= 30)]\n",
    "\n",
    "#b) Use a função iloc para selecionar as linhas correspondentes aos indivíduos na primeira e última posição do DataFrame e tire a média de seus salários.\n",
    "df.iloc[[0, 8]]['Salário'].mean()"
   ]
  },
  {
   "cell_type": "code",
   "execution_count": null,
   "id": "ef9ca7ee-661d-4996-b357-bfb36fe928e0",
   "metadata": {},
   "outputs": [],
   "source": [
    "import pandas as pd\n",
    "#EXERCICIO 2\n",
    "#Dado o seguinte DataFrame:\n",
    "data = {'Fabrica': ['A', 'B', 'A', 'C', 'B', 'A', 'B', 'A', 'C', 'C', 'B', 'A'],\n",
    "        'Valor': [100, 200, 150, 300, 250, 120, 140, 230, 390, 80, 160, 210]}\n",
    "\n",
    "df = pd.DataFrame(data)\n",
    "\n",
    "#a) Calcule a média dos valores para cada fábrica.\n",
    "df.groupby(\"Fabrica\")[\"Valor\"].mean()"
   ]
  },
  {
   "cell_type": "code",
   "execution_count": null,
   "id": "a5b4da9b-4ad3-49d3-bc86-f9d2cbb94c77",
   "metadata": {},
   "outputs": [],
   "source": [
    "#b) Calcule a soma dos valores para cada fábrica. O que possui a maior soma também possui a maior média? Qual a razão disso ocorrer ou não?\n",
    "df.grupby(\"Fabrica\")[\"Valor\"].sum()"
   ]
  },
  {
   "cell_type": "code",
   "execution_count": 5,
   "id": "4abb8946-df0e-42df-83e1-23cd2d912941",
   "metadata": {},
   "outputs": [],
   "source": [
    "import pandas as pd\n",
    "#EXERCICIO 3\n",
    "data = {'Data': ['2023-01-01', '2023-01-01', '2023-01-02', '2023-01-02'],\n",
    "        'Festas': ['A', 'B', 'A', 'B'],\n",
    "        'Participantes': [100, 150, 200, 120]}\n",
    "\n",
    "df = pd.DataFrame(data)\n",
    "\n",
    "#Crie uma tabela dinâmica (pivot table) que mostre os participantes totais para cada festa em cada data.\n",
    "pivot = df.pivot_table(index=\"Data\" , columns=\"Festas\" , values = \"Participantes\", aggfunc='sum')"
   ]
  },
  {
   "cell_type": "code",
   "execution_count": null,
   "id": "e4e022a8-4b8d-4f10-8d02-01398dddc60c",
   "metadata": {},
   "outputs": [],
   "source": [
    "#EXERCICIO 4\n",
    "df1 = pd.DataFrame({'Chave': ['A', 'B', 'C', 'D'],\n",
    "                    'Valor1': [10, 12, 6, 4]})\n",
    "\n",
    "df2 = pd.DataFrame({'Chave': ['B', 'D', 'E', 'F'],\n",
    "                    'Valor2': [9, 6, 11, 8]})\n",
    "\n",
    "df3 = pd.DataFrame({'Chave': ['C', 'D', 'E', 'G'],\n",
    "                    'Valor3': [10, 7, 14, 15]})\n",
    "\n",
    "#)a) Combine os DataFrames df1 e df2 com base na coluna 'Chave', \n",
    "#e deixe a coluna chave como index. Inclua apenas as chaves que aparecem em ambos os dataframes\n",
    "merged_df = pd.merge(df1 , df2, on=\"Chave\",how='inner')\n",
    "\n",
    "#b) Combine os DataFrames df1, df2 e df3, incluindo todas as chaves e valores. Defina \"Chave\" como index \n",
    "#e substitua os valores não existentes por 0.\n",
    "result = df1.merge(df2, on='Chave', how='outer').merge(df3, on='Chave', how='outer')\n",
    "result.set_index('Chave', inplace=True)\n",
    "result.fillna(0, inplace=True)\n",
    "result\n",
    "\n",
    "#c) Adicione uma nova coluna ao dataframe, contendo a soma do valor 1, 2 e 3 para cada chave.\n",
    "result['Soma'] = result['Valor1'] + result['Valor2'] + result['Valor3']\n",
    "result"
   ]
  },
  {
   "cell_type": "code",
   "execution_count": null,
   "id": "ce74d975-64a6-4164-a118-3f77a81952ec",
   "metadata": {},
   "outputs": [],
   "source": []
  }
 ],
 "metadata": {
  "kernelspec": {
   "display_name": "Python 3 (ipykernel)",
   "language": "python",
   "name": "python3"
  },
  "language_info": {
   "codemirror_mode": {
    "name": "ipython",
    "version": 3
   },
   "file_extension": ".py",
   "mimetype": "text/x-python",
   "name": "python",
   "nbconvert_exporter": "python",
   "pygments_lexer": "ipython3",
   "version": "3.11.7"
  }
 },
 "nbformat": 4,
 "nbformat_minor": 5
}
