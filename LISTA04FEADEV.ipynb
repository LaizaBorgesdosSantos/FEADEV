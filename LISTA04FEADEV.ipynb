{
 "cells": [
  {
   "cell_type": "code",
   "execution_count": null,
   "id": "f380736b-36f5-4594-8496-17afd91b4ada",
   "metadata": {},
   "outputs": [],
   "source": [
    "# Vamos começar importando algumas bibliotecas importantes para os exercícios. ps: Escolham o método que desejarem para resolução.\n",
    "import math\n",
    "import numpy as np\n",
    "import random as rd\n",
    "import datetime "
   ]
  },
  {
   "cell_type": "code",
   "execution_count": null,
   "id": "fe62752e-17b2-40df-8a98-a87a98bd6ae1",
   "metadata": {},
   "outputs": [],
   "source": [
    "#QUESTAO00\n",
    "# Algoritmo viral\n",
    "lista_um = list(np.ones(2))\n",
    "lista_dois = [3,3]\n",
    "lista_tres = list(np.zeros(2))\n",
    "\n",
    "print(lista_um, lista_dois, lista_tres)\n",
    "\n",
    "import math\n",
    "import numpy as np\n",
    "import random as rd\n",
    "import datetime \n",
    "\n",
    "lista_um = list(np.ones(2))\n",
    "lista_dois = [3,3]\n",
    "lista_tres = list(np.zeros(2))\n",
    "\n",
    "print(lista_um, lista_dois, lista_tres)\n",
    "# Seu código começa aqui\n",
    "\n",
    "np_um = np.array(lista_um)\n",
    "np_dois = np.array(lista_dois)\n",
    "np_tres = np.array(lista_tres)\n",
    "np_concatena = np.concatenate((np_um, np_dois, np_tres))\n",
    "resultado = np.where(np_concatena == 3,5,np_concatena)\n",
    "print(resultado)"
   ]
  },
  {
   "cell_type": "code",
   "execution_count": null,
   "id": "3684c674-a9c9-4454-948a-8a7cdcdf88e7",
   "metadata": {},
   "outputs": [],
   "source": [
    "#QUESTAO01\n",
    "\n",
    "\"Olá Cien Tenpo, segue a data e horário em nosso fuso: DATA\"\n",
    "\n",
    "import datetime\n",
    "\n",
    "DATA = datetime.datetime.now()\n",
    "\n",
    "print(\"Olá Cien Tenpo, segue a data e horário do nosso fuso:\" , DATA)"
   ]
  },
  {
   "cell_type": "code",
   "execution_count": null,
   "id": "4651b837-558c-432a-9b7b-b6f8ba7f4c47",
   "metadata": {},
   "outputs": [],
   "source": [
    "#QUESTAO02\n",
    "numeros_caixa = list(range(1,21,1))\n",
    "\n",
    "\n",
    "import time\n",
    "import random\n",
    "\n",
    "LISTA = []\n",
    "\n",
    "for sorteia in range(1,21):\n",
    "    numero_aleatorio = random.choice(numeros_caixa)\n",
    "    print(f'Número sorteado: {numero_aleatorio}')\n",
    "    if numero_aleatorio not in LISTA:\n",
    "        LISTA.append(numero_aleatorio)\n",
    "    numeros_caixa.remove(numero_aleatorio)\n",
    "    time.sleep(2)\n",
    "    LISTA = sorted(LISTA)\n",
    "    \n",
    "print(LISTA)"
   ]
  },
  {
   "cell_type": "code",
   "execution_count": null,
   "id": "2dbcb073-2ef9-4334-9310-65343a52dedf",
   "metadata": {},
   "outputs": [],
   "source": [
    "#QUESTAO03\n",
    "\n",
    "# Arranjos\n",
    "Arranjo_1 = np.array([[1, 2, 3],\n",
    "                      [4, 5, 6]])\n",
    "\n",
    "Arranjo_2 = np.array([[13, 14],\n",
    "                      [15, 16],\n",
    "                      [17, 18]])\n",
    "\n",
    "Arranjo_3 = np.array([[7, 8, 9],\n",
    "                      [10, 11, 12]])\n",
    "\n",
    "SOMA = Arranjo_1 + Arranjo_3\n",
    "\n",
    "print(SOMA)"
   ]
  },
  {
   "cell_type": "code",
   "execution_count": null,
   "id": "1fa344a5-1e50-46a3-beb8-5ca48d9a872a",
   "metadata": {},
   "outputs": [],
   "source": [
    "#QUESTAO04\n",
    "import numpy as np\n",
    "Arranjo_1 = np.array([[1, 2, 3],\n",
    "                      [4, 5, 6]])\n",
    "\n",
    "Arranjo_2 = np.array([[13, 14],\n",
    "                      [15, 16],\n",
    "                      [17, 18]])\n",
    "\n",
    "Arranjo_3 = np.array([[7, 8, 9],\n",
    "                      [10, 11, 12]])\n",
    "\n",
    "media_arranjo_1 = np.mean(Arranjo_1)\n",
    "media_arranjo_2 = np.mean(Arranjo_2)\n",
    "media_arranjo_3 = np.mean(Arranjo_3)\n",
    "\n",
    "diferencamedia = (media_arranjo_1 - media_arranjo_2 - media_arranjo_3)\n",
    "\n",
    "print(\"A diferença entre a média é \", diferencamedia)"
   ]
  }
 ],
 "metadata": {
  "kernelspec": {
   "display_name": "Python 3 (ipykernel)",
   "language": "python",
   "name": "python3"
  },
  "language_info": {
   "codemirror_mode": {
    "name": "ipython",
    "version": 3
   },
   "file_extension": ".py",
   "mimetype": "text/x-python",
   "name": "python",
   "nbconvert_exporter": "python",
   "pygments_lexer": "ipython3",
   "version": "3.11.7"
  }
 },
 "nbformat": 4,
 "nbformat_minor": 5
}
